{
 "cells": [
  {
   "cell_type": "code",
   "execution_count": null,
   "id": "56fdf058",
   "metadata": {},
   "outputs": [],
   "source": [
    "A function is a block of code which only runs when it is called. \n",
    "You can pass data, known as parameters, into a function.\n",
    "A function can return data as a result.\n"
   ]
  },
  {
   "cell_type": "code",
   "execution_count": null,
   "id": "8af9a60f",
   "metadata": {},
   "outputs": [],
   "source": [
    "Creating a Function:\n",
    "In Python a function is defined using the def keyword:\n",
    "\n",
    "Calling a Function:\n",
    "To call a function, use the function name followed by parenthesis:"
   ]
  },
  {
   "cell_type": "code",
   "execution_count": 2,
   "id": "65e84707",
   "metadata": {},
   "outputs": [
    {
     "name": "stdout",
     "output_type": "stream",
     "text": [
      "Hello from a function\n"
     ]
    }
   ],
   "source": [
    "def my_function():\n",
    " print(\"Hello from a function\")\n",
    "\n",
    "my_function()"
   ]
  },
  {
   "cell_type": "code",
   "execution_count": null,
   "id": "8f7fd62c",
   "metadata": {},
   "outputs": [],
   "source": [
    "Parameters\n",
    "Information can be passed to functions as parameter.\n",
    "Parameters are specified after the function name, inside the parentheses. \n",
    "You can add as many parameters as you want, just separate them with a comma.\n",
    "\n",
    "The following example has a function with one parameter (fname).\n",
    "When the function is called, we pass along a first name,\n",
    "which is used inside the function to print the full name:\n"
   ]
  },
  {
   "cell_type": "code",
   "execution_count": 4,
   "id": "75067570",
   "metadata": {},
   "outputs": [
    {
     "name": "stdout",
     "output_type": "stream",
     "text": [
      " Hello Arun\n",
      " Hello Uday\n",
      " Hello Arathi\n"
     ]
    }
   ],
   "source": [
    "def my_function(fname): \n",
    "    print(\" Hello \" + fname )\n",
    "\n",
    "my_function(\"Arun\")\n",
    "my_function(\"Uday\")\n",
    "my_function(\"Arathi\") \n",
    "\n"
   ]
  },
  {
   "cell_type": "code",
   "execution_count": null,
   "id": "be84937d",
   "metadata": {},
   "outputs": [],
   "source": [
    "Default Parameter Value\n",
    "The following example shows how to use a default parameter value. \n",
    "If we call the function without parameter, it uses the default value:\n"
   ]
  },
  {
   "cell_type": "code",
   "execution_count": 2,
   "id": "9db27230",
   "metadata": {},
   "outputs": [
    {
     "name": "stdout",
     "output_type": "stream",
     "text": [
      "I am from India\n",
      "I am from Nepal\n",
      "I am from Bhutan\n",
      "I am from China\n"
     ]
    }
   ],
   "source": [
    "def my_function(country = \"China\"):\n",
    "    print(\"I am from \" + country)\n",
    "\n",
    "my_function(\"India\")\n",
    "my_function(\"Nepal\")\n",
    "my_function(\"Bhutan\")\n",
    "my_function()"
   ]
  },
  {
   "cell_type": "code",
   "execution_count": null,
   "id": "9c499e23",
   "metadata": {},
   "outputs": [],
   "source": [
    "Passing a List as a Parameter;\n",
    "\n",
    "You can send any data types of parameter to a function\n",
    "(string, number, list, dictionary etc.),\n",
    "and it will be treated as the same data type inside the function.\n",
    "E.g. if you send a List as a parameter,\n",
    "it will still be a List when it reaches the function.\n"
   ]
  },
  {
   "cell_type": "code",
   "execution_count": 4,
   "id": "a0b06f66",
   "metadata": {},
   "outputs": [
    {
     "name": "stdout",
     "output_type": "stream",
     "text": [
      "apple\n",
      "banana\n",
      "cherry\n"
     ]
    }
   ],
   "source": [
    "def my_function(food): \n",
    "    for x in food:\n",
    "        print(x)\n",
    "\n",
    "fruits = [\"apple\", \"banana\", \"cherry\"]\n",
    "my_function(fruits)\n"
   ]
  },
  {
   "cell_type": "code",
   "execution_count": null,
   "id": "4622adf1",
   "metadata": {},
   "outputs": [],
   "source": [
    "Return Values\n",
    "To let a function return a value, use the return statement:"
   ]
  },
  {
   "cell_type": "code",
   "execution_count": 5,
   "id": "86dd5678",
   "metadata": {},
   "outputs": [
    {
     "name": "stdout",
     "output_type": "stream",
     "text": [
      "15\n",
      "25\n",
      "45\n"
     ]
    }
   ],
   "source": [
    "def my_function(x):\n",
    "    return 5 * x\n",
    "\n",
    "\n",
    "one=my_function(3) \n",
    "print(one)\n",
    "two=my_function(5)\n",
    "print(two)\n",
    "print(my_function(9)) \n"
   ]
  },
  {
   "cell_type": "code",
   "execution_count": null,
   "id": "64a2e9b9",
   "metadata": {},
   "outputs": [],
   "source": [
    "Recursion\n",
    "Python also accepts function recursion, which means a defined function can call\n",
    "itself. \n",
    "Recursion is a common mathematical and programming concept.\n",
    "It means that a function calls itself. \n",
    "This has the benefit of meaning that you can loop through data to reach \n",
    "a result.\n",
    "The developer should be very careful with recursion as it can be quite easy\n",
    "to slip into writing a function which never terminates,\n",
    "or one that uses excess amounts of memory or processor power. \n",
    "However, when written correctly recursion can be a very efficient and\n",
    "mathematically elegant approach to programming."
   ]
  },
  {
   "cell_type": "code",
   "execution_count": 3,
   "id": "2a61af90",
   "metadata": {},
   "outputs": [
    {
     "name": "stdout",
     "output_type": "stream",
     "text": [
      "\n",
      "\n",
      "Recursion Example Results\n"
     ]
    },
    {
     "data": {
      "text/plain": [
       "15"
      ]
     },
     "execution_count": 3,
     "metadata": {},
     "output_type": "execute_result"
    }
   ],
   "source": [
    "def tri_recursion(k):\n",
    "    if(k>0):\n",
    "        result = k+tri_recursion(k-1)\n",
    "    else: \n",
    "        result= 0\n",
    "    return result\n",
    "\n",
    "print(\"\\n\\nRecursion Example Results\")\n",
    "tri_recursion(5)\n",
    "\n",
    "#In this example,\n",
    "#tri_recursion() is a function that we have defined to call itself (\"recurse\").\n",
    "#We use the k variable as the data, which decrements-1) every time we recurse.\n",
    "#The recursion ends when the condition is not greater than 0 (i.e. when it is 0)."
   ]
  },
  {
   "cell_type": "code",
   "execution_count": null,
   "id": "88ff4ad5",
   "metadata": {},
   "outputs": [],
   "source": [
    "Variables in Python are implicitly declared by defining them, \n",
    "i.e. the first time you assign a value to a variable, \n",
    "this variable is declared and has automatically \n",
    "the data type of the object which has to be assigned to it.\n",
    "\n",
    "Global and local Variables in Functions\n",
    "how global values can be used inside the body of a function:\n",
    "    "
   ]
  },
  {
   "cell_type": "code",
   "execution_count": 16,
   "id": "d1a6dd90",
   "metadata": {},
   "outputs": [
    {
     "name": "stdout",
     "output_type": "stream",
     "text": [
      "Its Global\n"
     ]
    }
   ],
   "source": [
    "s = \"Its Global\"\n",
    "\n",
    "def f(): \n",
    "    print(s)\n",
    "\n",
    "f()\n"
   ]
  },
  {
   "cell_type": "code",
   "execution_count": null,
   "id": "ca70bafd",
   "metadata": {},
   "outputs": [],
   "source": [
    "As there is no local variable s, i.e. \n",
    "no assignment to s, \n",
    "the value from the global variable s will be used. \n",
    "So the output will be the string \"Its Global\""
   ]
  },
  {
   "cell_type": "code",
   "execution_count": 17,
   "id": "8863403f",
   "metadata": {},
   "outputs": [
    {
     "name": "stdout",
     "output_type": "stream",
     "text": [
      "Its Local\n"
     ]
    }
   ],
   "source": [
    "s=\"Its Global\"\n",
    "\n",
    "def f():\n",
    "    s= \"Its Local\"\n",
    "    print(s)\n",
    "\n",
    "f()"
   ]
  },
  {
   "cell_type": "code",
   "execution_count": 19,
   "id": "369265d7",
   "metadata": {},
   "outputs": [
    {
     "name": "stdout",
     "output_type": "stream",
     "text": [
      "Its Local\n",
      "Its Global\n"
     ]
    }
   ],
   "source": [
    "s=\"Its Global\"\n",
    "\n",
    "def f():\n",
    "    s= \"Its Local\"\n",
    "    print(s)\n",
    "\n",
    "f()\n",
    "print(s)"
   ]
  },
  {
   "cell_type": "code",
   "execution_count": 20,
   "id": "95f5913a",
   "metadata": {},
   "outputs": [
    {
     "ename": "UnboundLocalError",
     "evalue": "local variable 's' referenced before assignment",
     "output_type": "error",
     "traceback": [
      "\u001b[1;31m---------------------------------------------------------------------------\u001b[0m",
      "\u001b[1;31mUnboundLocalError\u001b[0m                         Traceback (most recent call last)",
      "\u001b[1;32m~\\AppData\\Local\\Temp/ipykernel_14552/1001477090.py\u001b[0m in \u001b[0;36m<module>\u001b[1;34m\u001b[0m\n\u001b[0;32m      5\u001b[0m    \u001b[0mprint\u001b[0m\u001b[1;33m(\u001b[0m\u001b[0ms\u001b[0m\u001b[1;33m)\u001b[0m\u001b[1;33m\u001b[0m\u001b[1;33m\u001b[0m\u001b[0m\n\u001b[0;32m      6\u001b[0m \u001b[1;33m\u001b[0m\u001b[0m\n\u001b[1;32m----> 7\u001b[1;33m \u001b[0mf\u001b[0m\u001b[1;33m(\u001b[0m\u001b[1;33m)\u001b[0m\u001b[1;33m\u001b[0m\u001b[1;33m\u001b[0m\u001b[0m\n\u001b[0m",
      "\u001b[1;32m~\\AppData\\Local\\Temp/ipykernel_14552/1001477090.py\u001b[0m in \u001b[0;36mf\u001b[1;34m()\u001b[0m\n\u001b[0;32m      1\u001b[0m \u001b[0ms\u001b[0m \u001b[1;33m=\u001b[0m \u001b[1;34m\"Its Global\"\u001b[0m\u001b[1;33m\u001b[0m\u001b[1;33m\u001b[0m\u001b[0m\n\u001b[0;32m      2\u001b[0m \u001b[1;32mdef\u001b[0m \u001b[0mf\u001b[0m\u001b[1;33m(\u001b[0m\u001b[1;33m)\u001b[0m\u001b[1;33m:\u001b[0m\u001b[1;33m\u001b[0m\u001b[1;33m\u001b[0m\u001b[0m\n\u001b[1;32m----> 3\u001b[1;33m    \u001b[0mprint\u001b[0m\u001b[1;33m(\u001b[0m\u001b[0ms\u001b[0m\u001b[1;33m)\u001b[0m\u001b[1;33m\u001b[0m\u001b[1;33m\u001b[0m\u001b[0m\n\u001b[0m\u001b[0;32m      4\u001b[0m    \u001b[0ms\u001b[0m \u001b[1;33m=\u001b[0m \u001b[1;34m\"It is local!\"\u001b[0m\u001b[1;33m\u001b[0m\u001b[1;33m\u001b[0m\u001b[0m\n\u001b[0;32m      5\u001b[0m    \u001b[0mprint\u001b[0m\u001b[1;33m(\u001b[0m\u001b[0ms\u001b[0m\u001b[1;33m)\u001b[0m\u001b[1;33m\u001b[0m\u001b[1;33m\u001b[0m\u001b[0m\n",
      "\u001b[1;31mUnboundLocalError\u001b[0m: local variable 's' referenced before assignment"
     ]
    }
   ],
   "source": [
    "s = \"Its Global\"\n",
    "def f(): \n",
    "   print(s)\n",
    "   s = \"It is local!\"\n",
    "   print(s)\n",
    "\n",
    "f()"
   ]
  },
  {
   "cell_type": "code",
   "execution_count": null,
   "id": "502edaf2",
   "metadata": {},
   "outputs": [],
   "source": [
    "we first access s with a print() function, hoping to get the global value, \n",
    "and then assigning a new value to it? Assigning a value to it, means - \n",
    " - creating a local variable s. \n",
    "So, we would have s both as a global and a local variable in the same scope,\n",
    "i.e. the body of the function. \n",
    "Python fortunately doesn't allow this ambiguity. \n",
    "\n",
    "A variable can't be both local and global inside a function."
   ]
  },
  {
   "cell_type": "code",
   "execution_count": 22,
   "id": "cb3f3be5",
   "metadata": {},
   "outputs": [
    {
     "name": "stdout",
     "output_type": "stream",
     "text": [
      "Its Global\n",
      "It is local!\n",
      "It is local!\n"
     ]
    }
   ],
   "source": [
    "s = \"Its Global\"\n",
    "def f(): \n",
    "   global s\n",
    "   print(s)\n",
    "   s = \"It is local!\"\n",
    "   print(s)\n",
    "\n",
    "f()\n",
    "print(s)"
   ]
  },
  {
   "cell_type": "code",
   "execution_count": 23,
   "id": "1bf352b4",
   "metadata": {},
   "outputs": [
    {
     "name": "stdout",
     "output_type": "stream",
     "text": [
      "I am globally not known\n",
      "It is local!\n"
     ]
    }
   ],
   "source": [
    "def f():\n",
    "    s = \"I am globally not known\"\n",
    "    print(s) \n",
    "\n",
    "f()\n",
    "print(s)"
   ]
  },
  {
   "cell_type": "code",
   "execution_count": null,
   "id": "10bd4d29",
   "metadata": {},
   "outputs": [],
   "source": [
    "Local variables of functions can't be accessed from outside,\n",
    "when the function call has finished."
   ]
  },
  {
   "cell_type": "code",
   "execution_count": 24,
   "id": "f48d79a6",
   "metadata": {},
   "outputs": [
    {
     "name": "stdout",
     "output_type": "stream",
     "text": [
      "42 17 4 17\n",
      "42 15 3 4\n"
     ]
    }
   ],
   "source": [
    "def foo(x, y):\n",
    "    global a\n",
    "    a = 42\n",
    "    x,y = y,x\n",
    "    b = 33\n",
    "    b = 17\n",
    "    c = 100\n",
    "    print(a,b,x,y)\n",
    "\n",
    "a, b, x, y = 1, 15, 3,4 \n",
    "foo(17, 4)\n",
    "print(a, b, x, y)"
   ]
  },
  {
   "cell_type": "code",
   "execution_count": null,
   "id": "4565367e",
   "metadata": {},
   "outputs": [],
   "source": [
    "Zip Function\n",
    "Definition and Usage\n",
    "The zip() function returns a zip object, \n",
    "which is an iterator of tuples where the first item in each passed iterator is paired together, \n",
    "and then the second item in each passed iterator are paired together etc.\n",
    "\n",
    "If the passed iterators have different lengths, \n",
    "the iterator with the least items decides the length of the new iterator.\n",
    "\n",
    "Syntax\n",
    "zip(iterator1, iterator2, iterator3 ...)"
   ]
  },
  {
   "cell_type": "code",
   "execution_count": 7,
   "id": "9f151b8a",
   "metadata": {},
   "outputs": [
    {
     "name": "stdout",
     "output_type": "stream",
     "text": [
      "<zip object at 0x000001FACEC37C40>\n",
      "(('John', 'Jenny'), ('Charles', 'Christy'), ('Mike', 'Monica'))\n"
     ]
    }
   ],
   "source": [
    "#Join two tuples together:\n",
    "\n",
    "a = (\"John\", \"Charles\", \"Mike\")\n",
    "b = (\"Jenny\", \"Christy\", \"Monica\")\n",
    "\n",
    "x = zip(a, b)\n",
    "print(x)\n",
    "print(tuple(x))"
   ]
  },
  {
   "cell_type": "code",
   "execution_count": 5,
   "id": "b2113947",
   "metadata": {},
   "outputs": [
    {
     "name": "stdout",
     "output_type": "stream",
     "text": [
      "(('John', 'Jenny'), ('Charles', 'Christy'), ('Mike', 'Monica'))\n"
     ]
    }
   ],
   "source": [
    "#If one tuple contains more items, these items are ignored:\n",
    "\n",
    "a = (\"John\", \"Charles\", \"Mike\")\n",
    "b = (\"Jenny\", \"Christy\", \"Monica\", \"Vicky\")\n",
    "\n",
    "x = zip(a, b)\n",
    "print(tuple(x))"
   ]
  },
  {
   "cell_type": "code",
   "execution_count": null,
   "id": "621dcfbe",
   "metadata": {},
   "outputs": [],
   "source": [
    "Python Lambda\n",
    "\n",
    "A lambda function is a small anonymous function.\n",
    "\n",
    "A lambda function can take any number of arguments, but can only have one expression.\n",
    "\n",
    "lambda arguments : expression\n",
    "The expression is executed and the result is returned"
   ]
  },
  {
   "cell_type": "code",
   "execution_count": null,
   "id": "e8424204",
   "metadata": {},
   "outputs": [],
   "source": [
    "#Add 10 to argument a, and return the result:\n",
    "\n",
    "x = lambda a : a + 10\n",
    "print(x(5))"
   ]
  },
  {
   "cell_type": "code",
   "execution_count": null,
   "id": "0f645022",
   "metadata": {},
   "outputs": [],
   "source": [
    "#Multiply argument a with argument b and return the result:\n",
    "\n",
    "x = lambda a, b : a * b\n",
    "print(x(5, 6))"
   ]
  }
 ],
 "metadata": {
  "kernelspec": {
   "display_name": "Python 3 (ipykernel)",
   "language": "python",
   "name": "python3"
  },
  "language_info": {
   "codemirror_mode": {
    "name": "ipython",
    "version": 3
   },
   "file_extension": ".py",
   "mimetype": "text/x-python",
   "name": "python",
   "nbconvert_exporter": "python",
   "pygments_lexer": "ipython3",
   "version": "3.9.7"
  }
 },
 "nbformat": 4,
 "nbformat_minor": 5
}
