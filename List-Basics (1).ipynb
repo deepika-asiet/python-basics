{
 "cells": [
  {
   "cell_type": "markdown",
   "id": "1241c7ab",
   "metadata": {},
   "source": [
    "# Lists \n",
    "Lists are used to store data of different data types in a sequential manner.\n",
    "There are addresses assigned to every element of the list, which is called as Index. \n",
    "The index value starts from 0 and goes on until the last element called the positive index.\n",
    "There is also negative indexing which starts from -1 enabling you to access elements from the last to first.\n",
    "Lists are Python’s most flexible ordered collection object type. \n",
    "Unlike strings, lists can contain any sort of object: numbers, strings, and even other lists.\n",
    "They are mutable objects.\n",
    "Some Main properties:\n",
    "  Python lists are:\n",
    "    Ordered collections of arbitrary objects.\n",
    "    Accessed by offset\n",
    "    Variable-length, heterogeneous, and arbitrarily nestable \n",
    "    Of the category “mutable sequence”\n"
   ]
  },
  {
   "cell_type": "markdown",
   "id": "ddf75cc5",
   "metadata": {},
   "source": [
    "# Creating a list\n",
    "To create a list;\n",
    "    Use the square brackets and add elements into it accordingly. \n",
    "    If you do not pass any elements inside the square brackets, you get an empty list as the output."
   ]
  },
  {
   "cell_type": "code",
   "execution_count": 1,
   "id": "bc094e7a",
   "metadata": {},
   "outputs": [
    {
     "name": "stdout",
     "output_type": "stream",
     "text": [
      "[]\n",
      "[1, 2, 3, 'example', 3.132]\n"
     ]
    }
   ],
   "source": [
    "my_list = []                                        #create empty list\n",
    "print(my_list)\n",
    "my_list = [1, 2, 3, 'example', 3.132]               #creating list with data\n",
    "print(my_list)"
   ]
  },
  {
   "cell_type": "markdown",
   "id": "7c5e6bd3",
   "metadata": {},
   "source": [
    "# Adding Elements\n",
    "Adding the elements in the list can be achieved using the append(), extend() and insert() functions.\n",
    "\n",
    "The append() function adds all the elements passed to it as a single element.\n",
    "The extend() function adds the elements one-by-one into the list.\n",
    "The insert() function adds the element passed to the index value and increase the size of the list too."
   ]
  },
  {
   "cell_type": "code",
   "execution_count": 2,
   "id": "0051e779",
   "metadata": {},
   "outputs": [
    {
     "name": "stdout",
     "output_type": "stream",
     "text": [
      "[1, 2, 3]\n",
      "[1, 2, 3, [555, 12]]\n",
      "[1, 2, 3, [555, 12], 234, 'more_example']\n",
      "[1, 'insert_example', 2, 3, [555, 12], 234, 'more_example']\n"
     ]
    }
   ],
   "source": [
    "my_list = [1, 2, 3]\n",
    "print(my_list)\n",
    "my_list.append([555, 12])                       #add as a single element\n",
    "print(my_list)\n",
    "my_list.extend([234, 'more_example'])           #add as different elements\n",
    "print(my_list)\n",
    "my_list.insert(1, 'insert_example')             #add element insert_example at the index 1\n",
    "print(my_list)"
   ]
  },
  {
   "cell_type": "markdown",
   "id": "41e6a5b4",
   "metadata": {},
   "source": [
    "# Deleting Elements\n",
    "To delete elements, use the del keyword which is built-in into Python but this does not return anything back to us.\n",
    "If you want the element back, you use the pop() function which takes the index value.\n",
    "To remove an element by its value, you use the remove() function.\n",
    "To remove all elements from the list use clear()"
   ]
  },
  {
   "cell_type": "code",
   "execution_count": 3,
   "id": "f7a5f78f",
   "metadata": {},
   "outputs": [
    {
     "name": "stdout",
     "output_type": "stream",
     "text": [
      "[1, 2, 3, 'example', 3.132, 30]\n",
      "[1, 2, 3, 3.132, 30]\n",
      "Popped Element:  2  List remaining:  [1, 3, 3.132, 30]\n",
      "[]\n"
     ]
    }
   ],
   "source": [
    "my_list = [1, 2, 3, 'example', 3.132, 10, 30]\n",
    "del my_list[5]                                              #delete element at index 5\n",
    "print(my_list)\n",
    "my_list.remove('example')                                     #remove element with value\n",
    "print(my_list)\n",
    "a = my_list.pop(1)                                              #pop element from list\n",
    "print('Popped Element: ', a, ' List remaining: ', my_list)\n",
    "my_list.clear()                                                   #empty the list\n",
    "print(my_list)"
   ]
  },
  {
   "cell_type": "markdown",
   "id": "c0b10e4a",
   "metadata": {},
   "source": [
    "# Accessing Elements\n",
    "Accessing elements is the same as accessing Strings in Python. You pass the index values and hence can obtain the values as needed."
   ]
  },
  {
   "cell_type": "code",
   "execution_count": 4,
   "id": "6a94b72f",
   "metadata": {},
   "outputs": [
    {
     "name": "stdout",
     "output_type": "stream",
     "text": [
      "1\n",
      "2\n",
      "3\n",
      "example\n",
      "3.132\n",
      "10\n",
      "30\n",
      "[1, 2, 3, 'example', 3.132, 10, 30]\n",
      "example\n",
      "30\n",
      "[1, 2]\n",
      "[30, 10, 3.132, 'example', 3, 2, 1]\n"
     ]
    }
   ],
   "source": [
    "my_list = [1, 2, 3, 'example', 3.132, 10, 30]\n",
    "for element in my_list:                            #access elements one by one\n",
    "    print(element)\n",
    "print(my_list)                                     #access all elements\n",
    "print(my_list[3])                                  #access index 3 element\n",
    "print (my_list[-1])                                #access index -1 element, negative indexing\n",
    "print(my_list[0:2])                                #access elements from 0 to 1 and exclude 2\n",
    "print(my_list[::-1])                               #access elements in reverse"
   ]
  },
  {
   "cell_type": "markdown",
   "id": "eabf23b5",
   "metadata": {},
   "source": [
    "# Loop Through a List \n",
    "loop through the list items by using a for loop"
   ]
  },
  {
   "cell_type": "code",
   "execution_count": 1,
   "id": "e852f6c1",
   "metadata": {},
   "outputs": [
    {
     "name": "stdout",
     "output_type": "stream",
     "text": [
      "apple\n",
      "banana\n",
      "cherry\n"
     ]
    }
   ],
   "source": [
    "#Print all items in the list, one by one:\n",
    "\n",
    "thislist = [\"apple\", \"banana\", \"cherry\"]\n",
    "for x in thislist:\n",
    "  print(x)"
   ]
  },
  {
   "cell_type": "markdown",
   "id": "6e9954ee",
   "metadata": {},
   "source": [
    "# Loop Through the Index Numbers\n",
    "You can also loop through the list items by referring to their index number.\n",
    "\n",
    "Use the range() and len() functions to create a suitable iterable."
   ]
  },
  {
   "cell_type": "code",
   "execution_count": null,
   "id": "7eac1e99",
   "metadata": {},
   "outputs": [],
   "source": [
    "#Print all items by referring to their index number:\n",
    "\n",
    "thislist = [\"apple\", \"banana\", \"cherry\"]\n",
    "for i in range(len(thislist)):\n",
    "  print(thislist[i])"
   ]
  },
  {
   "cell_type": "markdown",
   "id": "5767500c",
   "metadata": {},
   "source": [
    "# Using a While Loop\n",
    "You can loop through the list items by using a while loop.\n",
    "\n",
    "Use the len() function to determine the length of the list, then start at 0 and loop your way through the list items by referring to their indexes.\n",
    "\n",
    "Remember to increase the index by 1 after each iteration."
   ]
  },
  {
   "cell_type": "code",
   "execution_count": 2,
   "id": "70b3d3fb",
   "metadata": {},
   "outputs": [
    {
     "name": "stdout",
     "output_type": "stream",
     "text": [
      "apple\n",
      "banana\n",
      "cherry\n"
     ]
    }
   ],
   "source": [
    "#Print all items, using a while loop to go through all the index numbers\n",
    "\n",
    "thislist = [\"apple\", \"banana\", \"cherry\"]\n",
    "i = 0\n",
    "while i < len(thislist):\n",
    "  print(thislist[i])\n",
    "  i = i + 1"
   ]
  },
  {
   "cell_type": "markdown",
   "id": "56eb4dce",
   "metadata": {},
   "source": [
    "# List Comprehension\n",
    "List comprehension offers a shorter syntax when you want to create a new list based on the values of an existing list.\n",
    "\n",
    "Example:\n",
    "\n",
    "Based on a list of fruits, you want a new list, containing only the fruits with the letter \"a\" in the name.\n",
    "Without list comprehension you will have to write a for statement with a conditional test inside:"
   ]
  },
  {
   "cell_type": "code",
   "execution_count": 3,
   "id": "794be18b",
   "metadata": {},
   "outputs": [
    {
     "name": "stdout",
     "output_type": "stream",
     "text": [
      "['apple', 'banana', 'mango']\n"
     ]
    }
   ],
   "source": [
    "fruits = [\"apple\", \"banana\", \"cherry\", \"kiwi\", \"mango\"]\n",
    "newlist = []\n",
    "\n",
    "for x in fruits:\n",
    "  if \"a\" in x:\n",
    "    newlist.append(x)\n",
    "print(newlist)"
   ]
  },
  {
   "cell_type": "markdown",
   "id": "0f003199",
   "metadata": {},
   "source": [
    "# New list creation \n",
    "\n",
    "Syntax \n",
    "\n",
    "newlist =   expression for item in iterable if condition == True\n",
    "\n",
    "The return value is a new list, leaving the old list unchanged."
   ]
  },
  {
   "cell_type": "code",
   "execution_count": 4,
   "id": "7cf2c7cd",
   "metadata": {},
   "outputs": [
    {
     "name": "stdout",
     "output_type": "stream",
     "text": [
      "['apple', 'banana', 'mango']\n"
     ]
    }
   ],
   "source": [
    "#With list comprehension you can do all that with only one line of code:\n",
    "\n",
    "fruits = [\"apple\", \"banana\", \"cherry\", \"kiwi\", \"mango\"]\n",
    "\n",
    "newlist = [x for x in fruits if \"a\" in x]\n",
    "\n",
    "print(newlist)"
   ]
  },
  {
   "cell_type": "code",
   "execution_count": 6,
   "id": "843c8109",
   "metadata": {},
   "outputs": [
    {
     "name": "stdout",
     "output_type": "stream",
     "text": [
      "['banana', 'cherry', 'kiwi', 'mango']\n",
      "['apple', 'banana', 'cherry', 'kiwi', 'mango']\n",
      "[0, 1, 2, 3, 4, 5, 6, 7, 8, 9]\n",
      "[0, 1, 2, 3, 4]\n",
      "['APPLE', 'BANANA', 'CHERRY', 'KIWI', 'MANGO']\n",
      "['apple', 'orange', 'cherry', 'kiwi', 'mango']\n"
     ]
    }
   ],
   "source": [
    "fruits = [\"apple\", \"banana\", \"cherry\", \"kiwi\", \"mango\"]\n",
    "#Condition\n",
    "#The condition is like a filter that only accepts the items that valuate to True.\n",
    "#Only accept items that are not \"apple\":\n",
    "\n",
    "newlist = [x for x in fruits if x != \"apple\"]\n",
    "#The condition if x != \"apple\"  will return True for all elements other than \"apple\",\n",
    "#making the new list contain all fruits except \"apple\".\n",
    "print(newlist)\n",
    "\n",
    "\n",
    "#The condition is optional and can be omitted:\n",
    "newlist = [x for x in fruits]\n",
    "print(newlist)\n",
    "\n",
    "#Iterable\n",
    "#The iterable can be any iterable object, like a list, tuple, set etc.\n",
    "#You can use the range() function to create an iterable:\n",
    "newlist = [x for x in range(10)]\n",
    "print(newlist)\n",
    "\n",
    "#Same example, but with a condition:\n",
    "#Accept only numbers lower than 5:\n",
    "newlist = [x for x in range(10) if x < 5]\n",
    "print(newlist)\n",
    "\n",
    "\n",
    "#Expression\n",
    "#The expression is the current item in the iteration,\n",
    "#but it is also the outcome, which you can manipulate before it ends up like a list item in the new list:\n",
    "#Set the values in the new list to upper case:\n",
    "newlist = [x.upper() for x in fruits]\n",
    "print(newlist)\n",
    "\n",
    "#The expression can also contain conditions, not like a filter, but as a way to manipulate the outcome:\n",
    "#Return \"orange\" instead of \"banana\":\n",
    "newlist = [x if x != \"banana\" else \"orange\" for x in fruits]\n",
    "print(newlist)\n",
    "\n",
    "\n",
    "\n",
    "\n",
    "\n",
    "\n",
    "\n",
    "#The expression in the example above says:\n",
    "#\"Return the item if it is not banana, if it is banana return orange\"."
   ]
  },
  {
   "cell_type": "markdown",
   "id": "8c985cc7",
   "metadata": {},
   "source": [
    "# Two-Dimensional Lists\n",
    "A two-dimensional list is really nothing more than an list of lists (a three-dimensional list is a list of lists of lists). \n",
    "For our purposes, it is better to think of the two-dimensional list as a matrix. A matrix can be thought of as a grid of numbers, arranged in rows and columns, kind of like a bingo board. "
   ]
  },
  {
   "cell_type": "code",
   "execution_count": 16,
   "id": "8554630b",
   "metadata": {},
   "outputs": [
    {
     "name": "stdout",
     "output_type": "stream",
     "text": [
      "[[0, 1, 2, 3], [3, 2, 1, 0], [3, 5, 6, 1], [3, 8, 3, 4]]\n"
     ]
    }
   ],
   "source": [
    "myList = [ [0,1,2,3], [3,2,1,0], [3,5,6,1], [3,8,3,4] ]     \n",
    "print(myList)"
   ]
  },
  {
   "cell_type": "markdown",
   "id": "42a0c822",
   "metadata": {},
   "source": [
    "# Acessing 2D List \n",
    "For a two-dimensional list, in order to reference every element, we must use two nested loops. \n",
    "This gives us a counter variable for every column and every row in the matrix."
   ]
  },
  {
   "cell_type": "code",
   "execution_count": 7,
   "id": "b07a53fe",
   "metadata": {},
   "outputs": [
    {
     "name": "stdout",
     "output_type": "stream",
     "text": [
      "[[2, 4, 6, 8, 10], [3, 6, 9, 12, 15], [4, 8, 12, 16, 20]]\n",
      "[2, 4, 6, 8, 10]\n",
      "[3, 6, 9, 12, 15]\n",
      "[4, 8, 12, 16, 20]\n",
      "2 4 6 8 \n",
      "1 3 5 7 \n",
      "8 6 4 2 \n",
      "7 5 3 1 \n",
      "[[0, 0, 0, 0], [0, 0, 0, 0], [0, 0, 0, 0], [0, 0, 0, 0], [0, 0, 0, 0]]\n"
     ]
    }
   ],
   "source": [
    "#Accessing a multidimensional list:\n",
    "#Approch -1\n",
    "a = [[2, 4, 6, 8, 10], [3, 6, 9, 12, 15], [4, 8, 12, 16, 20]]\n",
    "print(a)\n",
    "\n",
    "#Approach 2: Accessing with the help of loop.\n",
    "a = [[2, 4, 6, 8, 10], [3, 6, 9, 12, 15], [4, 8, 12, 16, 20]]\n",
    "for i in a:\n",
    "    print(i)\n",
    "    \n",
    "#Approach 3: Accessing using square brackets.\n",
    "a = [ [2, 4, 6, 8 ], \n",
    "    [ 1, 3, 5, 7 ], \n",
    "    [ 8, 6, 4, 2 ], \n",
    "    [ 7, 5, 3, 1 ] ] \n",
    "          \n",
    "for i in range(len(a)) : \n",
    "    for j in range(len(a[i])) : \n",
    "        print(a[i][j], end = \" \")   \n",
    "    print ()\n",
    "        \n",
    "#By default Python‘s print() function ends with a newline. \n",
    "#Python’s print() function comes with a parameter called ‘end‘.\n",
    "#By default, the value of this parameter is ‘\\n’, i.e. the new line character. \n",
    "\n",
    "# Creating a multidimensional list with all zeros:\n",
    "# Python program to create a m x n matrix # with all 0s\n",
    "raw = 4\n",
    "column = 5\n",
    "a = [[0 for x in range(raw)] for x in range(column)]\n",
    "print(a)\n",
    "\n"
   ]
  },
  {
   "cell_type": "markdown",
   "id": "aa9e0f4c",
   "metadata": {},
   "source": [
    "# Methods on Multidimensional lists\n"
   ]
  },
  {
   "cell_type": "code",
   "execution_count": 30,
   "id": "a6e87bd2",
   "metadata": {},
   "outputs": [
    {
     "name": "stdout",
     "output_type": "stream",
     "text": [
      "[[2, 4, 6, 8, 10], [3, 6, 9, 12, 15], [4, 8, 12, 16, 20], [5, 10, 15, 20, 25]]\n",
      "[[2, 4, 6, 8, 10, 12, 14, 16, 18], [3, 6, 9, 12, 15], [4, 8, 12, 16, 20]]\n",
      "[[2, 4, 6, 8, 10], [3, 6, 9, 12, 15], [20, 16, 12, 8, 4]]\n"
     ]
    }
   ],
   "source": [
    "#append(): Adds an element at the end of the list.\n",
    "# Adding a sublist\n",
    "  \n",
    "a = [[2, 4, 6, 8, 10], [3, 6, 9, 12, 15], [4, 8, 12, 16, 20]]\n",
    "a.append([5, 10, 15, 20, 25])\n",
    "print(a)\n",
    "\n",
    " \n",
    "#extend(): Add the elements of a list (or any iterable), to the end of the current list.\n",
    "# Extending a sublist \n",
    "  \n",
    "a = [[2, 4, 6, 8, 10], [3, 6, 9, 12, 15], [4, 8, 12, 16, 20]]\n",
    "a[0].extend([12, 14, 16, 18])\n",
    "print(a)\n",
    "\n",
    "#reverse(): Reverses the order of the list.\n",
    "# Reversing a sublist \n",
    "  \n",
    "a = [[2, 4, 6, 8, 10], [3, 6, 9, 12, 15], [4, 8, 12, 16, 20]]\n",
    "a[2].reverse()\n",
    "print(a)"
   ]
  },
  {
   "cell_type": "markdown",
   "id": "4842ab26",
   "metadata": {},
   "source": [
    "# Creating List using Naive Method"
   ]
  },
  {
   "cell_type": "code",
   "execution_count": 2,
   "id": "c51ab357",
   "metadata": {},
   "outputs": [
    {
     "name": "stdout",
     "output_type": "stream",
     "text": [
      "[4, 4, 4, 4, 4]\n",
      "[[0, 0, 0, 0], [0, 0, 0, 0], [0, 0, 0, 0], [0, 0, 0, 0], [0, 0, 0, 0]]\n"
     ]
    }
   ],
   "source": [
    "#Example 1: Creating 1d list Using Naive methods\n",
    "\n",
    "\n",
    "N = 5\n",
    "ar = [0]*N\n",
    "print(ar)\n",
    "\n",
    "#creating a 2-D list - Naive Method\n",
    "\n",
    "rows, cols = (5, 4)\n",
    "arr = [[0]*cols]*rows\n",
    "print(arr)"
   ]
  },
  {
   "cell_type": "code",
   "execution_count": null,
   "id": "34bc20f9",
   "metadata": {},
   "outputs": [],
   "source": []
  }
 ],
 "metadata": {
  "kernelspec": {
   "display_name": "Python 3 (ipykernel)",
   "language": "python",
   "name": "python3"
  },
  "language_info": {
   "codemirror_mode": {
    "name": "ipython",
    "version": 3
   },
   "file_extension": ".py",
   "mimetype": "text/x-python",
   "name": "python",
   "nbconvert_exporter": "python",
   "pygments_lexer": "ipython3",
   "version": "3.9.7"
  }
 },
 "nbformat": 4,
 "nbformat_minor": 5
}
